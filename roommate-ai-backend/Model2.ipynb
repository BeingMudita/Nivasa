{
 "cells": [
  {
   "cell_type": "code",
   "execution_count": null,
   "id": "a2825703-c01a-47cf-ba41-2ff3238a44af",
   "metadata": {},
   "outputs": [],
   "source": []
  }
 ],
 "metadata": {
  "kernelspec": {
   "display_name": "",
   "name": ""
  },
  "language_info": {
   "name": ""
  }
 },
 "nbformat": 4,
 "nbformat_minor": 5
}
