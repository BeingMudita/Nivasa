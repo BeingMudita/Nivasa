{
 "cells": [
  {
   "cell_type": "code",
   "execution_count": 2,
   "id": "a2825703-c01a-47cf-ba41-2ff3238a44af",
   "metadata": {},
   "outputs": [],
   "source": [
    "import pandas as pd\n",
    "import numpy as np\n",
    "import random\n",
    "from itertools import combinations\n",
    "from sklearn.model_selection import train_test_split\n",
    "from sklearn.ensemble import RandomForestRegressor\n",
    "from sklearn.neural_network import MLPRegressor\n",
    "from sklearn.metrics import mean_squared_error, r2_score\n",
    "from sklearn.preprocessing import StandardScaler\n",
    "import joblib"
   ]
  },
  {
   "cell_type": "code",
   "execution_count": 3,
   "id": "f4a02c40-79be-4510-9c9c-0e2d82455f8d",
   "metadata": {},
   "outputs": [],
   "source": [
    "# ========== STEP 1: Enhanced Parameter Definitions ==========\n",
    "parameters = {\n",
    "    # Core parameters (directly from questions)\n",
    "    \"sleep\": [\"Early\", \"On-time\", \"Night owl\"],\n",
    "    \"diet\": [\"Vegetarian\", \"Vegan\", \"Flexitarian\", \"Non-vegetarian\", \"Eggetarian\"],\n",
    "    \"sharing_comfort\": [\"Not comfortable\", \"Somewhat okay\", \"Very open\"],\n",
    "    \"cleanliness\": [1, 2, 3, 4, 5],\n",
    "    \"sociability\": [\"Quiet\", \"Balanced\", \"Social/Chill\"],\n",
    "    \n",
    "    # Derived parameters (from question interpretation)\n",
    "    \"noise_tolerance\": [\"Low\", \"Medium\", \"High\"],\n",
    "    \"conflict_style\": [\"Passive\", \"Passive-aggressive\", \"Assertive\"],\n",
    "    \"boundary_strength\": [\"Rigid\", \"Moderate\", \"Flexible\"],\n",
    "    \"stress_response\": [\"Organized\", \"Procrastinator\", \"Reactive\"],\n",
    "    \"collaboration\": [\"Solo\", \"Selective\", \"Team\"],\n",
    "    \"communication\": [\"Indirect\", \"Mixed\", \"Direct\"],\n",
    "    \"autonomy\": [\"High\", \"Medium\", \"Low\"]\n",
    "}"
   ]
  },
  {
   "cell_type": "code",
   "execution_count": 4,
   "id": "46827567-33ef-4731-ac1d-bffc124ec643",
   "metadata": {},
   "outputs": [],
   "source": [
    "# ========== STEP 2: Synthetic Data Generation ==========\n",
    "def generate_user(id):\n",
    "    user = {\"id\": f\"U{id:03d}\"}\n",
    "    \n",
    "    # Core traits with dependencies\n",
    "    user[\"sleep\"] = random.choices(parameters[\"sleep\"], weights=[30, 40, 30])[0]\n",
    "    \n",
    "    # Diet influenced by sleep pattern (Indians are 40% vegetarian)\n",
    "    if user[\"sleep\"] == \"Early\":\n",
    "        user[\"diet\"] = random.choices(parameters[\"diet\"], weights=[40, 20, 15, 15, 10])[0]\n",
    "    else:\n",
    "        user[\"diet\"] = random.choices(parameters[\"diet\"], weights=[25, 15, 20, 30, 10])[0]\n",
    "    \n",
    "    # Cleanliness (Vegetarians tend to be cleaner)\n",
    "    if user[\"diet\"] in [\"Vegetarian\", \"Vegan\", \"Eggetarian\"]:\n",
    "        user[\"cleanliness\"] = random.choices(parameters[\"cleanliness\"], weights=[5, 15, 25, 35, 20])[0]\n",
    "    else:\n",
    "        user[\"cleanliness\"] = random.choices(parameters[\"cleanliness\"], weights=[15, 25, 30, 20, 10])[0]\n",
    "    \n",
    "    # Sociability and noise tolerance\n",
    "    if user[\"sleep\"] == \"Early\":\n",
    "        user[\"sociability\"] = random.choices(parameters[\"sociability\"], weights=[50, 35, 15])[0]\n",
    "        user[\"noise_tolerance\"] = \"Low\"\n",
    "    elif user[\"sleep\"] == \"Night owl\":\n",
    "        user[\"sociability\"] = random.choices(parameters[\"sociability\"], weights=[10, 30, 60])[0]\n",
    "        user[\"noise_tolerance\"] = \"High\"\n",
    "    else:\n",
    "        user[\"sociability\"] = random.choices(parameters[\"sociability\"], weights=[20, 50, 30])[0]\n",
    "        user[\"noise_tolerance\"] = \"Medium\"\n",
    "    \n",
    "    # Sharing comfort based on diet rigidity\n",
    "    if user[\"diet\"] in [\"Vegan\", \"Vegetarian\"]:\n",
    "        user[\"sharing_comfort\"] = random.choices(parameters[\"sharing_comfort\"], weights=[60, 30, 10])[0]\n",
    "        user[\"boundary_strength\"] = \"Rigid\"\n",
    "    else:\n",
    "        user[\"sharing_comfort\"] = random.choices(parameters[\"sharing_comfort\"], weights=[20, 50, 30])[0]\n",
    "        user[\"boundary_strength\"] = random.choice([\"Moderate\", \"Flexible\"])\n",
    "    \n",
    "    # Stress response (cleanliness correlates)\n",
    "    if user[\"cleanliness\"] >= 4:\n",
    "        user[\"stress_response\"] = \"Organized\"\n",
    "    elif user[\"cleanliness\"] <= 2:\n",
    "        user[\"stress_response\"] = \"Reactive\"\n",
    "    else:\n",
    "        user[\"stress_response\"] = \"Procrastinator\"\n",
    "    \n",
    "    # Conflict style (sociability influences)\n",
    "    if user[\"sociability\"] == \"Quiet\":\n",
    "        user[\"conflict_style\"] = random.choices([\"Passive\", \"Passive-aggressive\"], weights=[70, 30])[0]\n",
    "    else:\n",
    "        user[\"conflict_style\"] = \"Assertive\"\n",
    "    \n",
    "    # Collaboration preference\n",
    "    if user[\"sociability\"] == \"Social/Chill\":\n",
    "        user[\"collaboration\"] = \"Team\"\n",
    "        user[\"autonomy\"] = \"Low\"\n",
    "    else:\n",
    "        user[\"collaboration\"] = random.choice([\"Solo\", \"Selective\"])\n",
    "        user[\"autonomy\"] = \"High\"\n",
    "    \n",
    "    return user\n",
    "\n",
    "# Generate 500 fake users\n",
    "data = [generate_user(i) for i in range(1, 501)]\n",
    "df = pd.DataFrame(data)"
   ]
  },
  {
   "cell_type": "code",
   "execution_count": null,
   "id": "4a4bc14e-3e99-4ceb-abf3-bd46a9b28d77",
   "metadata": {},
   "outputs": [],
   "source": [
    "df.to_csv(r'C:\\Users\\Lenovo\\Documents\\Hackathon\\Nivasa\\roommate-ai-backend\\data\\modelData.csv', index=False)"
   ]
  }
 ],
 "metadata": {
  "kernelspec": {
   "display_name": "Python 3 (ipykernel)",
   "language": "python",
   "name": "python3"
  },
  "language_info": {
   "codemirror_mode": {
    "name": "ipython",
    "version": 3
   },
   "file_extension": ".py",
   "mimetype": "text/x-python",
   "name": "python",
   "nbconvert_exporter": "python",
   "pygments_lexer": "ipython3",
   "version": "3.13.0"
  },
  "widgets": {
   "application/vnd.jupyter.widget-state+json": {
    "state": {},
    "version_major": 2,
    "version_minor": 0
   }
  }
 },
 "nbformat": 4,
 "nbformat_minor": 5
}
